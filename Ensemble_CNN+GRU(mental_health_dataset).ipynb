{
  "nbformat": 4,
  "nbformat_minor": 0,
  "metadata": {
    "colab": {
      "provenance": [],
      "authorship_tag": "ABX9TyPj+tDM7lIl3q5XEJEV+0c+",
      "include_colab_link": true
    },
    "kernelspec": {
      "name": "python3",
      "display_name": "Python 3"
    },
    "language_info": {
      "name": "python"
    },
    "accelerator": "TPU",
    "gpuClass": "standard"
  },
  "cells": [
    {
      "cell_type": "markdown",
      "metadata": {
        "id": "view-in-github",
        "colab_type": "text"
      },
      "source": [
        "<a href=\"https://colab.research.google.com/github/robitussin/CCDEPLRL/blob/main/Ensemble_CNN%2BGRU(mental_health_dataset).ipynb\" target=\"_parent\"><img src=\"https://colab.research.google.com/assets/colab-badge.svg\" alt=\"Open In Colab\"/></a>"
      ]
    },
    {
      "cell_type": "code",
      "execution_count": null,
      "metadata": {
        "id": "g80XEWxeTy8N",
        "colab": {
          "base_uri": "https://localhost:8080/"
        },
        "outputId": "53aa313f-0634-4a8d-b989-f088b9c4a29d"
      },
      "outputs": [
        {
          "output_type": "stream",
          "name": "stderr",
          "text": [
            "/usr/local/lib/python3.7/dist-packages/ipykernel_launcher.py:15: UserWarning: Config option `use_jedi` not recognized by `IPCompleter`.\n",
            "  from ipykernel import kernelapp as app\n",
            "[nltk_data] Downloading package stopwords to /root/nltk_data...\n",
            "[nltk_data]   Unzipping corpora/stopwords.zip.\n"
          ]
        }
      ],
      "source": [
        "import tensorflow as tf\n",
        "import pandas as pd\n",
        "import numpy as np\n",
        "import matplotlib.pyplot as plt\n",
        "import seaborn as sns\n",
        "import re\n",
        "import nltk\n",
        "import random\n",
        "import string\n",
        "from nltk.corpus import stopwords \n",
        "from string import punctuation\n",
        "import time\n",
        "\n",
        "%config IPCompleter.greedy=True\n",
        "%config IPCompleter.use_jedi=False\n",
        "\n",
        "nltk.download('stopwords')\n",
        "from nltk.corpus import stopwords\n",
        "\n",
        "from tensorflow.keras.utils import plot_model\n",
        "from tensorflow.keras.constraints import MaxNorm\n",
        "from tensorflow.keras.layers import Input, Embedding, Conv1D, Dropout, MaxPool1D, Flatten, Dense, Bidirectional, GRU\n",
        "from tensorflow.keras.models import Model\n",
        "from tensorflow.keras.layers import concatenate\n",
        "from tensorflow.keras.preprocessing.text import Tokenizer\n",
        "from tensorflow.keras.preprocessing.sequence import pad_sequences\n",
        "\n",
        "from sklearn.metrics import accuracy_score\n",
        "from sklearn.metrics import precision_score\n",
        "from sklearn.metrics import recall_score\n",
        "from sklearn.metrics import f1_score\n",
        "from sklearn.metrics import cohen_kappa_score\n",
        "from sklearn.metrics import roc_auc_score\n",
        "from sklearn.metrics import confusion_matrix"
      ]
    },
    {
      "cell_type": "code",
      "source": [
        "train_url = \"https://github.com/robitussin/mental-illness/blob/4719afa5e9c628e8acd9f4f4d424de74a0481bdb/trainingset.csv?raw=true\"\n",
        "validation_url = \"https://github.com/robitussin/mental-illness/blob/4719afa5e9c628e8acd9f4f4d424de74a0481bdb/validationset.csv?raw=true\"\n",
        "test_url = \"https://github.com/robitussin/mental-illness/blob/d0092e117d751024aafc5e6b5c2f2db125b7701c/testset.csv?raw=true\"\n",
        "\n",
        "train_corpus = pd.read_csv(train_url)\n",
        "validation_corpus  = pd.read_csv(validation_url) \n",
        "test_corpus = pd.read_csv(test_url)\n",
        "\n",
        "print(train_corpus.shape)\n",
        "print(validation_corpus.shape)\n",
        "print(test_corpus.shape)"
      ],
      "metadata": {
        "id": "74KwTdLqT4hf",
        "colab": {
          "base_uri": "https://localhost:8080/"
        },
        "outputId": "ca8b6d73-d161-47fd-deba-d99b677903e5"
      },
      "execution_count": null,
      "outputs": [
        {
          "output_type": "stream",
          "name": "stdout",
          "text": [
            "(13727, 5)\n",
            "(1488, 5)\n",
            "(1488, 5)\n"
          ]
        }
      ]
    },
    {
      "cell_type": "code",
      "source": [
        "train_corpus.info()"
      ],
      "metadata": {
        "id": "pJ4wuYclUczU",
        "colab": {
          "base_uri": "https://localhost:8080/"
        },
        "outputId": "53d0a692-4d8a-41a5-dd91-0d9bb3c6d254"
      },
      "execution_count": null,
      "outputs": [
        {
          "output_type": "stream",
          "name": "stdout",
          "text": [
            "<class 'pandas.core.frame.DataFrame'>\n",
            "RangeIndex: 13727 entries, 0 to 13726\n",
            "Data columns (total 5 columns):\n",
            " #   Column      Non-Null Count  Dtype \n",
            "---  ------      --------------  ----- \n",
            " 0   ID          13727 non-null  object\n",
            " 1   title       13727 non-null  object\n",
            " 2   post        13727 non-null  object\n",
            " 3   class_name  13727 non-null  object\n",
            " 4   class_id    13727 non-null  int64 \n",
            "dtypes: int64(1), object(4)\n",
            "memory usage: 536.3+ KB\n"
          ]
        }
      ]
    },
    {
      "cell_type": "code",
      "source": [
        "validation_corpus.info()"
      ],
      "metadata": {
        "colab": {
          "base_uri": "https://localhost:8080/"
        },
        "id": "iFOnGKU72nPI",
        "outputId": "42f8e7f9-5a45-44f1-a1f9-1ea65d2d756f"
      },
      "execution_count": null,
      "outputs": [
        {
          "output_type": "stream",
          "name": "stdout",
          "text": [
            "<class 'pandas.core.frame.DataFrame'>\n",
            "RangeIndex: 1488 entries, 0 to 1487\n",
            "Data columns (total 5 columns):\n",
            " #   Column      Non-Null Count  Dtype \n",
            "---  ------      --------------  ----- \n",
            " 0   ID          1488 non-null   object\n",
            " 1   title       1488 non-null   object\n",
            " 2   post        1488 non-null   object\n",
            " 3   class_name  1488 non-null   object\n",
            " 4   class_id    1488 non-null   int64 \n",
            "dtypes: int64(1), object(4)\n",
            "memory usage: 58.2+ KB\n"
          ]
        }
      ]
    },
    {
      "cell_type": "code",
      "source": [
        "test_corpus.info()"
      ],
      "metadata": {
        "colab": {
          "base_uri": "https://localhost:8080/"
        },
        "id": "6b4hXuYzYUv-",
        "outputId": "c9accd24-f2ba-4d7f-a5b1-c88c4ac23b51"
      },
      "execution_count": null,
      "outputs": [
        {
          "output_type": "stream",
          "name": "stdout",
          "text": [
            "<class 'pandas.core.frame.DataFrame'>\n",
            "RangeIndex: 1488 entries, 0 to 1487\n",
            "Data columns (total 5 columns):\n",
            " #   Column      Non-Null Count  Dtype \n",
            "---  ------      --------------  ----- \n",
            " 0   ID          1488 non-null   object\n",
            " 1   title       1488 non-null   object\n",
            " 2   post        1488 non-null   object\n",
            " 3   class_name  1488 non-null   object\n",
            " 4   class_id    1488 non-null   int64 \n",
            "dtypes: int64(1), object(4)\n",
            "memory usage: 58.2+ KB\n"
          ]
        }
      ]
    },
    {
      "cell_type": "code",
      "source": [
        "train_corpus = train_corpus.dropna().reset_index(drop=True)"
      ],
      "metadata": {
        "id": "69Ayz11TabbG"
      },
      "execution_count": null,
      "outputs": []
    },
    {
      "cell_type": "code",
      "source": [
        "train_corpus.drop_duplicates(inplace = True)"
      ],
      "metadata": {
        "id": "4Yo2tJyhah-g"
      },
      "execution_count": null,
      "outputs": []
    },
    {
      "cell_type": "code",
      "source": [
        "train_corpus['post'] = train_corpus['title'] + \" \" + train_corpus['post']"
      ],
      "metadata": {
        "id": "nRMd8lWGbwlj"
      },
      "execution_count": null,
      "outputs": []
    },
    {
      "cell_type": "code",
      "source": [
        "def replaceemail(post):\n",
        "  regex = r'\\b[A-Za-z0-9._%+-]+@[A-Za-z0-9.-]+\\.[A-Z|a-z]{2,}\\b'\n",
        "  noemail = re.sub(regex, \"\", post)\n",
        "  return noemail"
      ],
      "metadata": {
        "id": "YAMqhv2MajSg"
      },
      "execution_count": null,
      "outputs": []
    },
    {
      "cell_type": "code",
      "source": [
        "train_corpus[\"post\"] = train_corpus[\"post\"].apply(replaceemail)"
      ],
      "metadata": {
        "id": "ghC4mSPwamMO"
      },
      "execution_count": null,
      "outputs": []
    },
    {
      "cell_type": "code",
      "source": [
        "stop_words = set(stopwords.words('english'))\n",
        "\n",
        "def clean(input_string):\n",
        "    \"\"\" Remove html line-break tags and handle punctuation \"\"\"\n",
        "    no_uppercased = input_string.lower()\n",
        "    no_stars = re.sub(\"\\*\",  \" \", no_uppercased)\n",
        "    no_html = re.sub(\"<br />\",  \"\", no_stars)\n",
        "    no_digits = re.sub(\"\\w*\\d\\w*\",  \"\", no_html)\n",
        "    no_punctuations = re.sub(f\"([{string.punctuation}])\", r\" \", no_digits)\n",
        "\n",
        "    #remove stop words\n",
        "    no_stop_words = ' '+no_punctuations+ ' '\n",
        "    for each in stop_words:\n",
        "      no_stop_words = re.sub(' '+each[0]+' ', r\" \", no_stop_words)\n",
        "    no_extra_space = re.sub(\" +\", \" \", no_stop_words)\n",
        "\n",
        "    return no_extra_space"
      ],
      "metadata": {
        "id": "p2GrJ-lFbNPz"
      },
      "execution_count": null,
      "outputs": []
    },
    {
      "cell_type": "code",
      "source": [
        "train_corpus[\"post\"] = train_corpus[\"post\"].apply(clean)"
      ],
      "metadata": {
        "id": "YbWFhcwlbQJQ"
      },
      "execution_count": null,
      "outputs": []
    },
    {
      "cell_type": "code",
      "source": [
        "# Separate the sentences and the labels\n",
        "# Separate the sentences and the labels for training and testing\n",
        "train_x = list(train_corpus.post)\n",
        "train_y = np.array(train_corpus.class_id)\n",
        "print(len(train_x))\n",
        "print(len(train_y))\n",
        "\n",
        "val_x = list(validation_corpus.post)\n",
        "val_y = np.array(validation_corpus.class_id)\n",
        "print(len(val_x))\n",
        "print(len(val_y))\n",
        "\n",
        "test_x = list(test_corpus.post)\n",
        "test_y = np.array(test_corpus.class_id)"
      ],
      "metadata": {
        "id": "woiNTBNMUgb_",
        "colab": {
          "base_uri": "https://localhost:8080/"
        },
        "outputId": "d2afd601-6f0e-4b62-ab0c-1b2f67b3566d"
      },
      "execution_count": null,
      "outputs": [
        {
          "output_type": "stream",
          "name": "stdout",
          "text": [
            "13727\n",
            "13727\n",
            "1488\n",
            "1488\n"
          ]
        }
      ]
    },
    {
      "cell_type": "code",
      "source": [
        "# Define a function to compute the max length of sequence\n",
        "def max_length(sequences):\n",
        "    '''\n",
        "    input:\n",
        "        sequences: a 2D list of integer sequences\n",
        "    output:\n",
        "        max_length: the max length of the sequences\n",
        "    '''\n",
        "    max_length = 0\n",
        "    for i, seq in enumerate(sequences):\n",
        "        length = len(seq)\n",
        "        if max_length < length:\n",
        "            max_length = length\n",
        "    return max_length"
      ],
      "metadata": {
        "id": "Wrpd6T18Uktb"
      },
      "execution_count": null,
      "outputs": []
    },
    {
      "cell_type": "code",
      "source": [
        "trunc_type='post'\n",
        "padding_type='post'\n",
        "oov_tok = \"<UNK>\"\n",
        "\n",
        "# Separate the sentences and the labels\n",
        "train_x = list(train_corpus.post)\n",
        "train_y = np.array(train_corpus.class_id)\n",
        "val_x = list(validation_corpus.post)\n",
        "val_y = np.array(validation_corpus.class_id)\n",
        "test_x = list(test_corpus.post)\n",
        "test_y = np.array(test_corpus.class_id)\n",
        "\n",
        "\n",
        "# Cleaning and Tokenization\n",
        "tokenizer = Tokenizer(oov_token=oov_tok)\n",
        "tokenizer.fit_on_texts(train_x)\n",
        "\n",
        "print(\"Example of sentence: \", train_x[4])\n",
        "\n",
        "# Turn the text into sequence\n",
        "training_sequences = tokenizer.texts_to_sequences(train_x)\n",
        "max_len = max_length(training_sequences)\n",
        "\n",
        "print('Into a sequence of int:', training_sequences[4])\n",
        "\n",
        "# Pad the sequence to have the same size\n",
        "training_padded = pad_sequences(training_sequences, maxlen=max_len, padding=padding_type, truncating=trunc_type)\n",
        "print('Into a padded sequence:', training_padded[4])"
      ],
      "metadata": {
        "id": "xMgktH-CUl-B",
        "colab": {
          "base_uri": "https://localhost:8080/"
        },
        "outputId": "c663cbcc-bb74-453d-bdf5-ef462995417a"
      },
      "execution_count": null,
      "outputs": [
        {
          "output_type": "stream",
          "name": "stdout",
          "text": [
            "Example of sentence:   science ama series i’m phil baran and i’m here to talk about our work at the baran laboratory where we try to simplify the way molecules are created i’m also macarthur fellow “genius grant recipient” ama i’m phil baran and teach organic chemistry at the scripps research institute also head the baran laboratory vibrant and passionate team of graduate students and postdoctoral scholars vigorously trying to uncover chemistry’s many hidden secrets in the pursuit of useful reactions that can simplify the way molecules are created in the lab in nutshell we like to pursue problems whose solution can have rapid impact in areas that are important to modern society such as the invention of new pharmaceuticals agrochemicals or materials our general philosophy to making complex molecules in the laboratory has been summarized in multiple locations but suffice it to say we are aiming for syntheses that are as close to “ideal” as possible with regards to inventing methodologies we like to focus on tangible and practical ways of forging bonds that are meaningful to as many folks as possible in that regard we are most enthusiastic about solving specific unmet needs in reactivity that have high likelihood of being “translational” finally we like to collaborate as much as possible with industry as the fastest return on tax payer money happens when fundamental science and real world problems come face to face to learn more about our research check out our blog open flask our website or follow us on twitter baranlabreads when was awarded the macarthur fellowship aka “genius grant” in they said that my research “is not only enhancing our ability to make fundamental structures for broad range of medicines and materials but is also strengthening the intellectual foundations of organic chemistry ” was on earlier today monday february to answer your questions and will pop in intermittently later to answer some more if you like to go ahead and keep asking so ask me anything \n",
            "Into a sequence of int: [398, 715, 903, 76, 8738, 14485, 3, 76, 108, 2, 186, 28, 146, 84, 27, 4, 14485, 3273, 126, 50, 181, 2, 8338, 4, 99, 5749, 34, 1589, 76, 105, 19833, 1590, 19834, 6666, 25833, 715, 76, 8738, 14485, 3, 2029, 3519, 1459, 27, 4, 9186, 402, 1929, 105, 257, 4, 14485, 3273, 19835, 3, 2337, 1161, 6, 1287, 954, 3, 5608, 14486, 25834, 176, 2, 10329, 25835, 179, 3270, 5750, 9, 4, 7115, 6, 1484, 2530, 8, 26, 8338, 4, 99, 5749, 34, 1589, 9, 4, 1952, 9, 8339, 50, 22, 2, 2723, 372, 2403, 1610, 26, 16, 2203, 1225, 9, 1890, 8, 34, 450, 2, 3226, 947, 290, 29, 4, 11968, 6, 168, 7632, 25836, 25, 2724, 146, 540, 5921, 2, 255, 1315, 5749, 9, 4, 3273, 67, 47, 13046, 9, 862, 4555, 15, 10330, 7, 2, 141, 50, 34, 9714, 11, 25837, 8, 34, 29, 432, 2, 25838, 29, 447, 18, 3394, 2, 14487, 16571, 50, 22, 2, 378, 19, 8739, 3, 3883, 596, 6, 19836, 11969, 8, 34, 2866, 2, 29, 179, 1755, 29, 447, 9, 8, 4556, 50, 34, 140, 7116, 28, 4334, 1095, 16572, 640, 9, 16573, 8, 16, 320, 8740, 6, 77, 25839, 237, 50, 22, 2, 7633, 29, 83, 29, 447, 18, 1939, 29, 4, 9187, 1338, 19, 2067, 11970, 367, 531, 38, 5315, 398, 3, 297, 261, 372, 223, 455, 2, 455, 2, 495, 66, 28, 146, 402, 534, 36, 146, 2492, 443, 25840, 146, 1334, 25, 865, 180, 19, 1403, 25841, 38, 17, 6440, 4, 19833, 5751, 3621, 19834, 25842, 9, 40, 157, 8, 5, 402, 8741, 24, 94, 11971, 146, 964, 2, 93, 5315, 7634, 11, 4335, 2809, 6, 4098, 3, 2724, 15, 13, 105, 13047, 4, 5606, 9715, 6, 3519, 1459, 418, 17, 19, 961, 147, 1420, 2419, 2, 470, 54, 321, 3, 69, 2076, 9, 9716, 363, 2, 470, 70, 66, 33, 12, 22, 2, 80, 1311, 3, 189, 574, 20, 276, 10, 121]\n",
            "Into a padded sequence: [398 715 903 ...   0   0   0]\n"
          ]
        }
      ]
    },
    {
      "cell_type": "code",
      "source": [
        "# See the first 10 words in the vocabulary\n",
        "\n",
        "word_index = tokenizer.word_index\n",
        "for i, word in enumerate(word_index):\n",
        "    print(word, word_index.get(word))\n",
        "    if i==9:\n",
        "        break\n",
        "vocab_size = len(word_index)+1\n",
        "print(vocab_size)"
      ],
      "metadata": {
        "id": "FDxEF9TmUnwV",
        "colab": {
          "base_uri": "https://localhost:8080/"
        },
        "outputId": "6d258c7e-1c59-4f1a-b61a-ff4b12c81fd0"
      },
      "execution_count": null,
      "outputs": [
        {
          "output_type": "stream",
          "name": "stdout",
          "text": [
            "<UNK> 1\n",
            "to 2\n",
            "and 3\n",
            "the 4\n",
            "my 5\n",
            "of 6\n",
            "it 7\n",
            "that 8\n",
            "in 9\n",
            "me 10\n",
            "44781\n"
          ]
        }
      ]
    },
    {
      "cell_type": "code",
      "source": [
        "def define_model(filters = 100, kernel_size = 3, activation='relu', input_dim = None, output_dim=300, max_length = None ):\n",
        "  \n",
        "    # Channel 1\n",
        "    input1 = Input(shape=(max_length,))\n",
        "    embeddding1 = Embedding(input_dim=input_dim, output_dim=output_dim, input_length=max_length)(input1)\n",
        "    conv1 = Conv1D(filters=filters, kernel_size=kernel_size, activation='relu', \n",
        "                   kernel_constraint= MaxNorm( max_value=3, axis=[0,1]))(embeddding1)\n",
        "    pool1 = MaxPool1D(pool_size=2, strides=2)(conv1)\n",
        "    flat1 = Flatten()(pool1)\n",
        "    drop1 = Dropout(0.5)(flat1)\n",
        "    dense1 = Dense(10, activation='relu')(drop1)\n",
        "    drop1 = Dropout(0.5)(dense1)\n",
        "    out1 = Dense(units=6, activation='softmax')(drop1)\n",
        "    \n",
        "    # Channel 2\n",
        "    input2 = Input(shape=(max_length,))\n",
        "    embeddding2 = Embedding(input_dim=input_dim, output_dim=output_dim, input_length=max_length, mask_zero=True)(input2)\n",
        "    gru2 = Bidirectional(GRU(64))(embeddding2)\n",
        "    drop2 = Dropout(0.5)(gru2)\n",
        "    out2 = Dense(units=6, activation='softmax')(drop2)\n",
        "    \n",
        "    # Merge\n",
        "    merged = concatenate([out1, out2])\n",
        "    \n",
        "    # Interpretation\n",
        "    outputs = Dense(units=6, activation='softmax')(merged)\n",
        "    model = Model(inputs=[input1, input2], outputs=outputs)\n",
        "    \n",
        "    # Compile\n",
        "    model.compile( loss='sparse_categorical_crossentropy', optimizer='adam', metrics=['accuracy'])\n",
        "    \n",
        "    return model"
      ],
      "metadata": {
        "id": "6ECd3GTeUqz_"
      },
      "execution_count": null,
      "outputs": []
    },
    {
      "cell_type": "code",
      "source": [
        "model_0 = define_model( input_dim=1000, max_length=100)\n",
        "model_0.summary()"
      ],
      "metadata": {
        "id": "eBZxEkMtUsgP",
        "colab": {
          "base_uri": "https://localhost:8080/"
        },
        "outputId": "6e9927e8-d3ac-49fd-a603-fdc9dd3dcbea"
      },
      "execution_count": null,
      "outputs": [
        {
          "output_type": "stream",
          "name": "stdout",
          "text": [
            "Model: \"model\"\n",
            "__________________________________________________________________________________________________\n",
            " Layer (type)                   Output Shape         Param #     Connected to                     \n",
            "==================================================================================================\n",
            " input_1 (InputLayer)           [(None, 100)]        0           []                               \n",
            "                                                                                                  \n",
            " embedding (Embedding)          (None, 100, 300)     300000      ['input_1[0][0]']                \n",
            "                                                                                                  \n",
            " conv1d (Conv1D)                (None, 98, 100)      90100       ['embedding[0][0]']              \n",
            "                                                                                                  \n",
            " max_pooling1d (MaxPooling1D)   (None, 49, 100)      0           ['conv1d[0][0]']                 \n",
            "                                                                                                  \n",
            " flatten (Flatten)              (None, 4900)         0           ['max_pooling1d[0][0]']          \n",
            "                                                                                                  \n",
            " input_2 (InputLayer)           [(None, 100)]        0           []                               \n",
            "                                                                                                  \n",
            " dropout (Dropout)              (None, 4900)         0           ['flatten[0][0]']                \n",
            "                                                                                                  \n",
            " embedding_1 (Embedding)        (None, 100, 300)     300000      ['input_2[0][0]']                \n",
            "                                                                                                  \n",
            " dense (Dense)                  (None, 10)           49010       ['dropout[0][0]']                \n",
            "                                                                                                  \n",
            " bidirectional (Bidirectional)  (None, 128)          140544      ['embedding_1[0][0]']            \n",
            "                                                                                                  \n",
            " dropout_1 (Dropout)            (None, 10)           0           ['dense[0][0]']                  \n",
            "                                                                                                  \n",
            " dropout_2 (Dropout)            (None, 128)          0           ['bidirectional[0][0]']          \n",
            "                                                                                                  \n",
            " dense_1 (Dense)                (None, 6)            66          ['dropout_1[0][0]']              \n",
            "                                                                                                  \n",
            " dense_2 (Dense)                (None, 6)            774         ['dropout_2[0][0]']              \n",
            "                                                                                                  \n",
            " concatenate (Concatenate)      (None, 12)           0           ['dense_1[0][0]',                \n",
            "                                                                  'dense_2[0][0]']                \n",
            "                                                                                                  \n",
            " dense_3 (Dense)                (None, 6)            78          ['concatenate[0][0]']            \n",
            "                                                                                                  \n",
            "==================================================================================================\n",
            "Total params: 880,572\n",
            "Trainable params: 880,572\n",
            "Non-trainable params: 0\n",
            "__________________________________________________________________________________________________\n"
          ]
        }
      ]
    },
    {
      "cell_type": "code",
      "source": [
        "\n",
        "tf.keras.utils.plot_model(model_0, show_shapes=True)"
      ],
      "metadata": {
        "colab": {
          "base_uri": "https://localhost:8080/",
          "height": 1000
        },
        "id": "OPKBzKZouHfU",
        "outputId": "5c0b3b24-189e-4ff7-8b8d-4c67ad0f75ac"
      },
      "execution_count": null,
      "outputs": [
        {
          "output_type": "execute_result",
          "data": {
            "text/plain": [
              "<IPython.core.display.Image object>"
            ],
            "image/png": "[encoded data removed]"
          },
          "metadata": {},
          "execution_count": 19
        }
      ]
    },
    {
      "cell_type": "code",
      "source": [
        "class myCallback(tf.keras.callbacks.Callback):\n",
        "    # Overide the method on_epoch_end() for our benefit\n",
        "    def on_epoch_end(self, epoch, logs={}):\n",
        "        if (logs.get('accuracy') > 0.93):\n",
        "            print(\"\\nReached 93% accuracy so cancelling training!\")\n",
        "            self.model.stop_training=True\n",
        "\n",
        "\n",
        "callbacks = tf.keras.callbacks.EarlyStopping(monitor='val_accuracy', min_delta=0, \n",
        "                                             patience=20, verbose=2, \n",
        "                                             mode='auto', restore_best_weights=True)"
      ],
      "metadata": {
        "id": "jTzQYRH2UuGg"
      },
      "execution_count": null,
      "outputs": []
    },
    {
      "cell_type": "code",
      "source": [
        "# Parameter Initialization\n",
        "trunc_type='post'\n",
        "padding_type='post'\n",
        "oov_tok = \"<UNK>\"\n",
        "activations = ['relu']\n",
        "filters = 100\n",
        "#kernel_sizes = [1, 2, 3, 4, 5, 6]\n",
        "kernel_sizes = [1]\n",
        "columns = ['Activation', 'Filters', 'Acc']\n",
        "record = pd.DataFrame(columns = columns)\n",
        "\n",
        "# Separate the sentences and the labels\n",
        "train_x = list(train_corpus.post)\n",
        "train_y = np.array(train_corpus.class_id)\n",
        "val_x = list(validation_corpus.post)\n",
        "val_y = np.array(validation_corpus.class_id)\n",
        "test_x = list(test_corpus.post)\n",
        "test_y = np.array(test_corpus.class_id)\n",
        "\n",
        "for activation in activations:\n",
        "\n",
        "    for kernel_size in kernel_sizes:\n",
        "\n",
        "        # encode data using\n",
        "        # Cleaning and Tokenization\n",
        "        tokenizer = Tokenizer(oov_token=oov_tok)\n",
        "        tokenizer.fit_on_texts(train_x)\n",
        "\n",
        "        # Turn the text into sequence\n",
        "        training_sequences = tokenizer.texts_to_sequences(train_x)\n",
        "        val_sequences = tokenizer.texts_to_sequences(val_x)\n",
        "        test_sequences = tokenizer.texts_to_sequences(test_x)\n",
        "\n",
        "        max_len = max_length(training_sequences)\n",
        "\n",
        "        # Pad the sequence to have the same size\n",
        "        Xtrain = pad_sequences(training_sequences, maxlen=max_len, padding=padding_type, truncating=trunc_type)\n",
        "        Xval = pad_sequences(val_sequences, maxlen=max_len, padding=padding_type, truncating=trunc_type)\n",
        "        Xtest = pad_sequences(test_sequences, maxlen=max_len, padding=padding_type, truncating=trunc_type)\n",
        "\n",
        "        word_index = tokenizer.word_index\n",
        "        vocab_size = len(word_index)+1\n",
        "\n",
        "        # Define the model\n",
        "        model = define_model(filters, kernel_size, activation, input_dim=vocab_size, max_length=max_len)\n",
        "\n",
        "        # Train the model\n",
        "        acc = 0 \n",
        "        while (acc<0.65):\n",
        "            \n",
        "            model.fit([Xtrain, Xtrain], train_y, batch_size=50, epochs=100, verbose=1, \n",
        "                      callbacks=[callbacks], validation_data=([Xval, Xval], val_y))\n",
        "            \n",
        "            loss, acc = model.evaluate([Xval, Xval], val_y, verbose=0)\n",
        "            \n",
        "            if (acc<0.55):\n",
        "                # Re-define the model\n",
        "                model = define_model(filters, kernel_size, activation, input_dim=vocab_size, max_length=max_len)\n",
        "                print('The model is suffered from optimizing the local minimum :(')\n",
        "                \n",
        "            else:\n",
        "                print('Done!')\n",
        "\n",
        "        # evaluate the model\n",
        "        loss, acc = model.evaluate([Xval, Xval], val_y, verbose=0)\n",
        "        print('Test Accuracy: {}'.format(acc*100))\n",
        "\n",
        "        parameters = [activation, kernel_size]\n",
        "        entries = parameters + [acc]\n",
        "\n",
        "        temp = pd.DataFrame([entries], columns=columns)\n",
        "        record = record.append(temp, ignore_index=True)\n",
        "        print()\n",
        "        print(record)\n",
        "        print()"
      ],
      "metadata": {
        "id": "-xQvDLrzUwJn",
        "colab": {
          "base_uri": "https://localhost:8080/"
        },
        "outputId": "869e4016-47ec-4292-d554-470850b78121"
      },
      "execution_count": null,
      "outputs": [
        {
          "output_type": "stream",
          "name": "stdout",
          "text": [
            "Epoch 1/100\n",
            "275/275 [==============================] - 82s 229ms/step - loss: 1.6168 - accuracy: 0.3492 - val_loss: 1.3977 - val_accuracy: 0.5578\n",
            "Epoch 2/100\n",
            "275/275 [==============================] - 60s 217ms/step - loss: 1.2363 - accuracy: 0.6261 - val_loss: 1.1898 - val_accuracy: 0.6008\n",
            "Epoch 3/100\n",
            "275/275 [==============================] - 59s 216ms/step - loss: 1.0129 - accuracy: 0.6707 - val_loss: 1.1069 - val_accuracy: 0.6082\n",
            "Epoch 4/100\n",
            "275/275 [==============================] - 59s 216ms/step - loss: 0.8242 - accuracy: 0.7216 - val_loss: 1.0670 - val_accuracy: 0.5927\n",
            "Epoch 5/100\n",
            "275/275 [==============================] - 60s 218ms/step - loss: 0.7055 - accuracy: 0.7493 - val_loss: 1.1580 - val_accuracy: 0.5827\n",
            "Epoch 6/100\n",
            "275/275 [==============================] - 60s 219ms/step - loss: 0.6280 - accuracy: 0.7653 - val_loss: 1.1410 - val_accuracy: 0.5813\n",
            "Epoch 7/100\n",
            "275/275 [==============================] - 60s 217ms/step - loss: 0.5705 - accuracy: 0.7823 - val_loss: 1.2036 - val_accuracy: 0.5605\n",
            "Epoch 8/100\n",
            "275/275 [==============================] - 60s 217ms/step - loss: 0.5072 - accuracy: 0.7918 - val_loss: 1.2972 - val_accuracy: 0.5544\n",
            "Epoch 9/100\n",
            "275/275 [==============================] - 60s 219ms/step - loss: 0.4767 - accuracy: 0.7977 - val_loss: 1.4047 - val_accuracy: 0.5228\n",
            "Epoch 10/100\n",
            "275/275 [==============================] - 62s 224ms/step - loss: 0.4413 - accuracy: 0.8045 - val_loss: 1.5713 - val_accuracy: 0.5155\n",
            "Epoch 11/100\n",
            "275/275 [==============================] - 61s 223ms/step - loss: 0.4055 - accuracy: 0.8580 - val_loss: 1.5255 - val_accuracy: 0.5773\n",
            "Epoch 12/100\n",
            "275/275 [==============================] - 60s 220ms/step - loss: 0.3498 - accuracy: 0.8960 - val_loss: 1.6939 - val_accuracy: 0.5457\n",
            "Epoch 13/100\n",
            "275/275 [==============================] - 61s 221ms/step - loss: 0.2986 - accuracy: 0.9147 - val_loss: 1.4824 - val_accuracy: 0.5974\n",
            "Epoch 14/100\n",
            "275/275 [==============================] - 61s 221ms/step - loss: 0.2699 - accuracy: 0.9201 - val_loss: 1.6865 - val_accuracy: 0.5766\n",
            "Epoch 15/100\n",
            "275/275 [==============================] - 61s 221ms/step - loss: 0.2474 - accuracy: 0.9313 - val_loss: 1.7373 - val_accuracy: 0.5712\n",
            "Epoch 16/100\n",
            "275/275 [==============================] - 61s 223ms/step - loss: 0.2232 - accuracy: 0.9353 - val_loss: 1.8090 - val_accuracy: 0.5645\n",
            "Epoch 17/100\n",
            "275/275 [==============================] - 61s 221ms/step - loss: 0.2099 - accuracy: 0.9383 - val_loss: 1.9134 - val_accuracy: 0.5497\n",
            "Epoch 18/100\n",
            "275/275 [==============================] - 60s 220ms/step - loss: 0.1872 - accuracy: 0.9467 - val_loss: 2.0329 - val_accuracy: 0.5491\n",
            "Epoch 19/100\n",
            "275/275 [==============================] - 61s 222ms/step - loss: 0.1861 - accuracy: 0.9440 - val_loss: 1.9848 - val_accuracy: 0.5397\n",
            "Epoch 20/100\n",
            "275/275 [==============================] - 62s 224ms/step - loss: 0.1730 - accuracy: 0.9486 - val_loss: 2.0895 - val_accuracy: 0.5363\n",
            "Epoch 21/100\n",
            "275/275 [==============================] - 61s 222ms/step - loss: 0.1636 - accuracy: 0.9497 - val_loss: 2.1282 - val_accuracy: 0.5376\n",
            "Epoch 22/100\n",
            "275/275 [==============================] - 61s 222ms/step - loss: 0.1518 - accuracy: 0.9518 - val_loss: 2.0795 - val_accuracy: 0.5618\n",
            "Epoch 23/100\n",
            "275/275 [==============================] - ETA: 0s - loss: 0.1456 - accuracy: 0.9530Restoring model weights from the end of the best epoch: 3.\n",
            "275/275 [==============================] - 61s 222ms/step - loss: 0.1456 - accuracy: 0.9530 - val_loss: 2.2456 - val_accuracy: 0.5356\n",
            "Epoch 23: early stopping\n",
            "Done!\n",
            "Epoch 1/100\n",
            "275/275 [==============================] - 61s 223ms/step - loss: 0.8247 - accuracy: 0.6991 - val_loss: 1.0450 - val_accuracy: 0.6095\n",
            "Epoch 2/100\n",
            "275/275 [==============================] - 62s 225ms/step - loss: 0.6673 - accuracy: 0.7441 - val_loss: 1.0313 - val_accuracy: 0.6082\n",
            "Epoch 3/100\n",
            "275/275 [==============================] - 62s 224ms/step - loss: 0.5594 - accuracy: 0.7806 - val_loss: 1.0224 - val_accuracy: 0.6095\n",
            "Epoch 4/100\n",
            "275/275 [==============================] - 61s 223ms/step - loss: 0.4981 - accuracy: 0.7931 - val_loss: 1.0658 - val_accuracy: 0.5961\n",
            "Epoch 5/100\n",
            "275/275 [==============================] - 61s 222ms/step - loss: 0.4489 - accuracy: 0.8168 - val_loss: 1.0873 - val_accuracy: 0.6512\n",
            "Epoch 6/100\n",
            "275/275 [==============================] - 61s 223ms/step - loss: 0.4045 - accuracy: 0.8620 - val_loss: 1.1093 - val_accuracy: 0.6734\n",
            "Epoch 7/100\n",
            "275/275 [==============================] - 61s 222ms/step - loss: 0.3374 - accuracy: 0.9086 - val_loss: 1.1084 - val_accuracy: 0.6882\n",
            "Epoch 8/100\n",
            "275/275 [==============================] - 61s 223ms/step - loss: 0.2939 - accuracy: 0.9205 - val_loss: 1.1844 - val_accuracy: 0.6828\n",
            "Epoch 9/100\n",
            "275/275 [==============================] - 61s 222ms/step - loss: 0.2528 - accuracy: 0.9345 - val_loss: 1.2699 - val_accuracy: 0.6848\n",
            "Epoch 10/100\n",
            "275/275 [==============================] - 61s 222ms/step - loss: 0.2310 - accuracy: 0.9387 - val_loss: 1.3531 - val_accuracy: 0.6660\n",
            "Epoch 11/100\n",
            "275/275 [==============================] - 61s 221ms/step - loss: 0.2024 - accuracy: 0.9478 - val_loss: 1.3592 - val_accuracy: 0.6633\n",
            "Epoch 12/100\n",
            "275/275 [==============================] - 61s 223ms/step - loss: 0.1890 - accuracy: 0.9508 - val_loss: 1.7396 - val_accuracy: 0.6055\n",
            "Epoch 13/100\n",
            "275/275 [==============================] - 61s 222ms/step - loss: 0.1729 - accuracy: 0.9548 - val_loss: 1.8556 - val_accuracy: 0.5974\n",
            "Epoch 14/100\n",
            "275/275 [==============================] - 61s 221ms/step - loss: 0.1495 - accuracy: 0.9608 - val_loss: 1.8769 - val_accuracy: 0.6048\n",
            "Epoch 15/100\n",
            "275/275 [==============================] - 61s 221ms/step - loss: 0.1418 - accuracy: 0.9619 - val_loss: 1.9698 - val_accuracy: 0.5853\n",
            "Epoch 16/100\n",
            "275/275 [==============================] - 61s 221ms/step - loss: 0.1324 - accuracy: 0.9623 - val_loss: 2.1426 - val_accuracy: 0.5551\n",
            "Epoch 17/100\n",
            "275/275 [==============================] - 61s 221ms/step - loss: 0.1198 - accuracy: 0.9668 - val_loss: 1.8796 - val_accuracy: 0.6062\n",
            "Epoch 18/100\n",
            "275/275 [==============================] - 61s 223ms/step - loss: 0.1129 - accuracy: 0.9684 - val_loss: 1.9321 - val_accuracy: 0.5995\n",
            "Epoch 19/100\n",
            "275/275 [==============================] - 61s 222ms/step - loss: 0.1010 - accuracy: 0.9735 - val_loss: 1.9826 - val_accuracy: 0.6048\n",
            "Epoch 20/100\n",
            "275/275 [==============================] - 61s 221ms/step - loss: 0.0963 - accuracy: 0.9737 - val_loss: 2.0998 - val_accuracy: 0.5665\n",
            "Epoch 21/100\n",
            "275/275 [==============================] - 61s 220ms/step - loss: 0.0811 - accuracy: 0.9797 - val_loss: 2.1605 - val_accuracy: 0.5679\n",
            "Epoch 22/100\n",
            "275/275 [==============================] - 61s 220ms/step - loss: 0.0786 - accuracy: 0.9803 - val_loss: 2.1762 - val_accuracy: 0.5813\n",
            "Epoch 23/100\n",
            "275/275 [==============================] - 61s 221ms/step - loss: 0.0781 - accuracy: 0.9784 - val_loss: 2.2307 - val_accuracy: 0.5605\n",
            "Epoch 24/100\n",
            "275/275 [==============================] - 61s 220ms/step - loss: 0.0733 - accuracy: 0.9802 - val_loss: 2.2142 - val_accuracy: 0.5625\n",
            "Epoch 25/100\n",
            "275/275 [==============================] - 61s 221ms/step - loss: 0.0694 - accuracy: 0.9808 - val_loss: 2.3330 - val_accuracy: 0.5638\n",
            "Epoch 26/100\n",
            "275/275 [==============================] - 60s 220ms/step - loss: 0.0733 - accuracy: 0.9786 - val_loss: 2.2321 - val_accuracy: 0.5665\n",
            "Epoch 27/100\n",
            "275/275 [==============================] - ETA: 0s - loss: 0.0658 - accuracy: 0.9805Restoring model weights from the end of the best epoch: 7.\n",
            "275/275 [==============================] - 61s 221ms/step - loss: 0.0658 - accuracy: 0.9805 - val_loss: 2.3719 - val_accuracy: 0.5739\n",
            "Epoch 27: early stopping\n",
            "Done!\n",
            "Epoch 1/100\n",
            "275/275 [==============================] - 60s 219ms/step - loss: 0.2956 - accuracy: 0.9184 - val_loss: 1.1674 - val_accuracy: 0.6902\n",
            "Epoch 2/100\n",
            "275/275 [==============================] - 60s 220ms/step - loss: 0.2544 - accuracy: 0.9298 - val_loss: 1.1757 - val_accuracy: 0.6942\n",
            "Epoch 3/100\n",
            "275/275 [==============================] - 61s 220ms/step - loss: 0.2227 - accuracy: 0.9373 - val_loss: 1.4010 - val_accuracy: 0.6633\n",
            "Epoch 4/100\n",
            "275/275 [==============================] - 61s 221ms/step - loss: 0.1903 - accuracy: 0.9497 - val_loss: 1.2570 - val_accuracy: 0.6922\n",
            "Epoch 5/100\n",
            "275/275 [==============================] - 61s 222ms/step - loss: 0.1743 - accuracy: 0.9530 - val_loss: 1.3254 - val_accuracy: 0.6929\n",
            "Epoch 6/100\n",
            "275/275 [==============================] - 61s 222ms/step - loss: 0.1575 - accuracy: 0.9575 - val_loss: 1.3859 - val_accuracy: 0.6848\n",
            "Epoch 7/100\n",
            "275/275 [==============================] - 61s 221ms/step - loss: 0.1456 - accuracy: 0.9595 - val_loss: 1.4974 - val_accuracy: 0.6714\n",
            "Epoch 8/100\n",
            "275/275 [==============================] - 61s 221ms/step - loss: 0.1440 - accuracy: 0.9611 - val_loss: 1.4843 - val_accuracy: 0.6727\n",
            "Epoch 9/100\n",
            "275/275 [==============================] - 61s 222ms/step - loss: 0.1318 - accuracy: 0.9639 - val_loss: 1.4869 - val_accuracy: 0.6774\n",
            "Epoch 10/100\n",
            "275/275 [==============================] - 61s 221ms/step - loss: 0.1172 - accuracy: 0.9673 - val_loss: 1.5337 - val_accuracy: 0.6694\n",
            "Epoch 11/100\n",
            "275/275 [==============================] - 61s 222ms/step - loss: 0.1152 - accuracy: 0.9670 - val_loss: 1.5275 - val_accuracy: 0.6754\n",
            "Epoch 12/100\n",
            "275/275 [==============================] - 61s 222ms/step - loss: 0.1051 - accuracy: 0.9709 - val_loss: 1.8337 - val_accuracy: 0.6431\n",
            "Epoch 13/100\n",
            "275/275 [==============================] - 61s 221ms/step - loss: 0.1005 - accuracy: 0.9714 - val_loss: 1.7848 - val_accuracy: 0.6478\n",
            "Epoch 14/100\n",
            "275/275 [==============================] - 61s 221ms/step - loss: 0.0952 - accuracy: 0.9718 - val_loss: 1.8221 - val_accuracy: 0.6472\n",
            "Epoch 15/100\n",
            "275/275 [==============================] - 60s 220ms/step - loss: 0.0881 - accuracy: 0.9730 - val_loss: 1.8323 - val_accuracy: 0.6566\n",
            "Epoch 16/100\n",
            "275/275 [==============================] - 61s 221ms/step - loss: 0.0820 - accuracy: 0.9736 - val_loss: 2.0030 - val_accuracy: 0.6304\n",
            "Epoch 17/100\n",
            "275/275 [==============================] - 61s 220ms/step - loss: 0.0844 - accuracy: 0.9765 - val_loss: 2.0200 - val_accuracy: 0.6257\n",
            "Epoch 18/100\n",
            "275/275 [==============================] - 60s 219ms/step - loss: 0.0723 - accuracy: 0.9795 - val_loss: 2.0203 - val_accuracy: 0.6337\n",
            "Epoch 19/100\n",
            "275/275 [==============================] - 61s 220ms/step - loss: 0.0639 - accuracy: 0.9822 - val_loss: 2.2831 - val_accuracy: 0.5941\n",
            "Epoch 20/100\n",
            "275/275 [==============================] - 60s 220ms/step - loss: 0.0642 - accuracy: 0.9810 - val_loss: 2.4161 - val_accuracy: 0.5712\n",
            "Epoch 21/100\n",
            "275/275 [==============================] - 63s 228ms/step - loss: 0.0664 - accuracy: 0.9800 - val_loss: 2.4085 - val_accuracy: 0.5759\n",
            "Epoch 22/100\n",
            "275/275 [==============================] - ETA: 0s - loss: 0.0606 - accuracy: 0.9828Restoring model weights from the end of the best epoch: 2.\n",
            "275/275 [==============================] - 61s 221ms/step - loss: 0.0606 - accuracy: 0.9828 - val_loss: 2.5133 - val_accuracy: 0.5605\n",
            "Epoch 22: early stopping\n",
            "Done!\n",
            "Epoch 1/100\n",
            "275/275 [==============================] - 61s 223ms/step - loss: 0.2346 - accuracy: 0.9332 - val_loss: 1.3437 - val_accuracy: 0.6734\n",
            "Epoch 2/100\n",
            "275/275 [==============================] - 61s 221ms/step - loss: 0.1956 - accuracy: 0.9454 - val_loss: 1.3205 - val_accuracy: 0.6727\n",
            "Epoch 3/100\n",
            "275/275 [==============================] - 60s 220ms/step - loss: 0.1758 - accuracy: 0.9501 - val_loss: 1.3198 - val_accuracy: 0.6848\n",
            "Epoch 4/100\n",
            "275/275 [==============================] - 61s 222ms/step - loss: 0.1520 - accuracy: 0.9575 - val_loss: 1.4313 - val_accuracy: 0.6754\n",
            "Epoch 5/100\n",
            "275/275 [==============================] - 61s 221ms/step - loss: 0.1430 - accuracy: 0.9612 - val_loss: 1.5161 - val_accuracy: 0.6700\n",
            "Epoch 6/100\n",
            "275/275 [==============================] - 61s 221ms/step - loss: 0.1313 - accuracy: 0.9640 - val_loss: 1.5979 - val_accuracy: 0.6566\n",
            "Epoch 7/100\n",
            "275/275 [==============================] - 61s 221ms/step - loss: 0.1297 - accuracy: 0.9640 - val_loss: 1.4870 - val_accuracy: 0.6761\n",
            "Epoch 8/100\n",
            "275/275 [==============================] - 61s 222ms/step - loss: 0.1168 - accuracy: 0.9677 - val_loss: 1.5454 - val_accuracy: 0.6653\n",
            "Epoch 9/100\n",
            "275/275 [==============================] - 60s 220ms/step - loss: 0.1124 - accuracy: 0.9685 - val_loss: 1.6319 - val_accuracy: 0.6660\n",
            "Epoch 10/100\n",
            "275/275 [==============================] - 61s 223ms/step - loss: 0.1053 - accuracy: 0.9700 - val_loss: 1.6199 - val_accuracy: 0.6680\n",
            "Epoch 11/100\n",
            "275/275 [==============================] - 60s 219ms/step - loss: 0.0994 - accuracy: 0.9723 - val_loss: 1.6143 - val_accuracy: 0.6694\n",
            "Epoch 12/100\n",
            "275/275 [==============================] - 61s 221ms/step - loss: 0.0955 - accuracy: 0.9717 - val_loss: 1.5512 - val_accuracy: 0.6895\n",
            "Epoch 13/100\n",
            "275/275 [==============================] - 61s 221ms/step - loss: 0.0948 - accuracy: 0.9706 - val_loss: 1.5840 - val_accuracy: 0.6761\n",
            "Epoch 14/100\n",
            "275/275 [==============================] - 61s 221ms/step - loss: 0.0855 - accuracy: 0.9724 - val_loss: 1.7103 - val_accuracy: 0.6660\n",
            "Epoch 15/100\n",
            "275/275 [==============================] - 61s 222ms/step - loss: 0.0797 - accuracy: 0.9788 - val_loss: 1.6443 - val_accuracy: 0.6714\n",
            "Epoch 16/100\n",
            "275/275 [==============================] - 61s 221ms/step - loss: 0.0711 - accuracy: 0.9811 - val_loss: 1.7203 - val_accuracy: 0.6747\n",
            "Epoch 17/100\n",
            "275/275 [==============================] - 60s 220ms/step - loss: 0.0686 - accuracy: 0.9815 - val_loss: 1.7190 - val_accuracy: 0.6727\n",
            "Epoch 18/100\n",
            "275/275 [==============================] - 60s 219ms/step - loss: 0.0659 - accuracy: 0.9818 - val_loss: 1.7491 - val_accuracy: 0.6774\n",
            "Epoch 19/100\n",
            "275/275 [==============================] - 60s 219ms/step - loss: 0.0678 - accuracy: 0.9800 - val_loss: 1.9645 - val_accuracy: 0.6351\n",
            "Epoch 20/100\n",
            "275/275 [==============================] - 61s 221ms/step - loss: 0.0598 - accuracy: 0.9824 - val_loss: 1.8659 - val_accuracy: 0.6539\n",
            "Epoch 21/100\n",
            "275/275 [==============================] - 61s 220ms/step - loss: 0.0573 - accuracy: 0.9822 - val_loss: 2.0620 - val_accuracy: 0.6411\n",
            "Epoch 22/100\n",
            "275/275 [==============================] - 60s 220ms/step - loss: 0.0488 - accuracy: 0.9859 - val_loss: 2.1975 - val_accuracy: 0.6304\n",
            "Epoch 23/100\n",
            "275/275 [==============================] - 61s 220ms/step - loss: 0.0547 - accuracy: 0.9822 - val_loss: 2.0572 - val_accuracy: 0.6324\n",
            "Epoch 24/100\n",
            "275/275 [==============================] - 61s 220ms/step - loss: 0.0483 - accuracy: 0.9846 - val_loss: 2.0533 - val_accuracy: 0.6290\n",
            "Epoch 25/100\n",
            "275/275 [==============================] - 61s 220ms/step - loss: 0.0440 - accuracy: 0.9862 - val_loss: 2.1245 - val_accuracy: 0.6263\n",
            "Epoch 26/100\n",
            "275/275 [==============================] - 61s 221ms/step - loss: 0.0417 - accuracy: 0.9865 - val_loss: 1.9983 - val_accuracy: 0.6526\n",
            "Epoch 27/100\n",
            "275/275 [==============================] - 60s 220ms/step - loss: 0.0433 - accuracy: 0.9845 - val_loss: 2.0218 - val_accuracy: 0.6331\n",
            "Epoch 28/100\n",
            "275/275 [==============================] - 61s 220ms/step - loss: 0.0356 - accuracy: 0.9878 - val_loss: 1.9478 - val_accuracy: 0.6512\n",
            "Epoch 29/100\n",
            "275/275 [==============================] - 61s 220ms/step - loss: 0.0326 - accuracy: 0.9884 - val_loss: 1.9592 - val_accuracy: 0.6364\n",
            "Epoch 30/100\n",
            "275/275 [==============================] - 61s 220ms/step - loss: 0.0281 - accuracy: 0.9904 - val_loss: 1.9834 - val_accuracy: 0.6384\n",
            "Epoch 31/100\n",
            "275/275 [==============================] - 61s 221ms/step - loss: 0.0255 - accuracy: 0.9939 - val_loss: 1.9167 - val_accuracy: 0.6512\n",
            "Epoch 32/100\n",
            "275/275 [==============================] - ETA: 0s - loss: 0.0243 - accuracy: 0.9945Restoring model weights from the end of the best epoch: 12.\n",
            "275/275 [==============================] - 61s 221ms/step - loss: 0.0243 - accuracy: 0.9945 - val_loss: 2.1454 - val_accuracy: 0.6129\n",
            "Epoch 32: early stopping\n",
            "Done!\n",
            "Epoch 1/100\n",
            "275/275 [==============================] - 61s 221ms/step - loss: 0.1017 - accuracy: 0.9687 - val_loss: 1.6810 - val_accuracy: 0.6801\n",
            "Epoch 2/100\n",
            "275/275 [==============================] - 60s 220ms/step - loss: 0.0952 - accuracy: 0.9722 - val_loss: 1.7496 - val_accuracy: 0.6720\n",
            "Epoch 3/100\n",
            "275/275 [==============================] - 60s 219ms/step - loss: 0.0831 - accuracy: 0.9781 - val_loss: 1.8156 - val_accuracy: 0.6586\n",
            "Epoch 4/100\n",
            "275/275 [==============================] - 61s 221ms/step - loss: 0.0749 - accuracy: 0.9780 - val_loss: 1.7532 - val_accuracy: 0.6734\n",
            "Epoch 5/100\n",
            "275/275 [==============================] - 61s 221ms/step - loss: 0.0713 - accuracy: 0.9792 - val_loss: 1.8506 - val_accuracy: 0.6694\n",
            "Epoch 6/100\n",
            "275/275 [==============================] - 61s 220ms/step - loss: 0.0662 - accuracy: 0.9805 - val_loss: 1.7264 - val_accuracy: 0.6835\n",
            "Epoch 7/100\n",
            "275/275 [==============================] - 60s 220ms/step - loss: 0.0644 - accuracy: 0.9812 - val_loss: 1.7614 - val_accuracy: 0.6835\n",
            "Epoch 8/100\n",
            "275/275 [==============================] - 60s 219ms/step - loss: 0.0571 - accuracy: 0.9836 - val_loss: 1.7206 - val_accuracy: 0.6841\n",
            "Epoch 9/100\n",
            "275/275 [==============================] - 60s 220ms/step - loss: 0.0575 - accuracy: 0.9827 - val_loss: 1.7184 - val_accuracy: 0.6801\n",
            "Epoch 10/100\n",
            "275/275 [==============================] - 61s 221ms/step - loss: 0.0577 - accuracy: 0.9824 - val_loss: 1.8512 - val_accuracy: 0.6660\n",
            "Epoch 11/100\n",
            "275/275 [==============================] - 61s 220ms/step - loss: 0.0543 - accuracy: 0.9838 - val_loss: 1.7930 - val_accuracy: 0.6734\n",
            "Epoch 12/100\n",
            "275/275 [==============================] - 60s 220ms/step - loss: 0.0509 - accuracy: 0.9854 - val_loss: 1.8459 - val_accuracy: 0.6586\n",
            "Epoch 13/100\n",
            "275/275 [==============================] - 61s 220ms/step - loss: 0.0490 - accuracy: 0.9849 - val_loss: 2.0490 - val_accuracy: 0.6169\n",
            "Epoch 14/100\n",
            "275/275 [==============================] - 61s 220ms/step - loss: 0.0439 - accuracy: 0.9865 - val_loss: 2.1078 - val_accuracy: 0.6190\n",
            "Epoch 15/100\n",
            "275/275 [==============================] - 61s 222ms/step - loss: 0.0440 - accuracy: 0.9854 - val_loss: 2.1129 - val_accuracy: 0.6102\n",
            "Epoch 16/100\n",
            "275/275 [==============================] - 62s 224ms/step - loss: 0.0402 - accuracy: 0.9878 - val_loss: 2.1487 - val_accuracy: 0.6075\n",
            "Epoch 17/100\n",
            "275/275 [==============================] - 61s 221ms/step - loss: 0.0352 - accuracy: 0.9889 - val_loss: 2.0380 - val_accuracy: 0.6116\n",
            "Epoch 18/100\n",
            "275/275 [==============================] - 61s 221ms/step - loss: 0.0342 - accuracy: 0.9885 - val_loss: 2.1677 - val_accuracy: 0.5974\n",
            "Epoch 19/100\n",
            "275/275 [==============================] - 61s 222ms/step - loss: 0.0293 - accuracy: 0.9901 - val_loss: 2.1931 - val_accuracy: 0.5840\n",
            "Epoch 20/100\n",
            "275/275 [==============================] - 61s 221ms/step - loss: 0.0290 - accuracy: 0.9895 - val_loss: 2.2788 - val_accuracy: 0.5766\n",
            "Epoch 21/100\n",
            "275/275 [==============================] - 61s 222ms/step - loss: 0.0251 - accuracy: 0.9921 - val_loss: 2.1511 - val_accuracy: 0.6284\n",
            "Epoch 22/100\n",
            "275/275 [==============================] - 61s 221ms/step - loss: 0.0218 - accuracy: 0.9953 - val_loss: 2.1317 - val_accuracy: 0.6304\n",
            "Epoch 23/100\n",
            "112/275 [===========>..................] - ETA: 34s - loss: 0.0225 - accuracy: 0.9955"
          ]
        }
      ]
    },
    {
      "cell_type": "code",
      "source": [
        "test_prob = model.predict([Xtest, Xtest], verbose=0)"
      ],
      "metadata": {
        "id": "HkTxBIwq_5Na"
      },
      "execution_count": null,
      "outputs": []
    },
    {
      "cell_type": "code",
      "source": [
        "test_pred = np.argmax(test_prob, axis=1)"
      ],
      "metadata": {
        "id": "awOauMn2AAvH"
      },
      "execution_count": null,
      "outputs": []
    },
    {
      "cell_type": "code",
      "source": [
        "test_pred.shape"
      ],
      "metadata": {
        "id": "qMMaLo_uAD84"
      },
      "execution_count": null,
      "outputs": []
    },
    {
      "cell_type": "code",
      "source": [
        "accuracy = accuracy_score(test_y, test_pred)\n",
        "print('Accuracy: %f' % accuracy)\n",
        "# precision tp / (tp + fp)\n",
        "precision = precision_score(test_y, test_pred, average='macro')\n",
        "print('Precision: %f' % precision)\n",
        "# recall: tp / (tp + fn)\n",
        "recall = recall_score(test_y, test_pred, average='macro')\n",
        "print('Recall: %f' % recall)\n",
        "# f1: 2 tp / (2 tp + fp + fn)\n",
        "f1 = f1_score(test_y, test_pred, average='macro')\n",
        "print('F1 score: %f' % f1)"
      ],
      "metadata": {
        "id": "F7GTtMdUA9e7"
      },
      "execution_count": null,
      "outputs": []
    }
  ]
}